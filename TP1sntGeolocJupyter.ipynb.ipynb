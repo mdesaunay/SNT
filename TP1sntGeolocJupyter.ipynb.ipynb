{
 "cells": [
  {
   "cell_type": "markdown",
   "metadata": {},
   "source": [
    "# TP1 Cartographie"
   ]
  },
  {
   "cell_type": "markdown",
   "metadata": {},
   "source": [
    "Bonjour et bienvenue sur cette page."
   ]
  },
  {
   "cell_type": "markdown",
   "metadata": {},
   "source": [
    "### 0 - Comprendre comment utiliser ce Notebook"
   ]
  },
  {
   "cell_type": "markdown",
   "metadata": {
    "collapsed": true
   },
   "source": [
    "Cette page permet de programmer en Python, et d'observer immédiatement les résultats. \n",
    "Pour exécuter les lignes de programme, il faudra cliquer sur le bouton \"play\" après avoir sélectionner la ligne à exécuter.\n",
    "Vous pouvez modifier les lignes de code.\n",
    "Voici un exemple (Cliquer sur Play) :"
   ]
  },
  {
   "cell_type": "code",
   "execution_count": null,
   "metadata": {},
   "outputs": [],
   "source": [
    "a=3\n",
    "b=5\n",
    "print(a+b)"
   ]
  },
  {
   "cell_type": "markdown",
   "metadata": {
    "collapsed": true
   },
   "source": [
    "### 1 - Importer le module folium"
   ]
  },
  {
   "cell_type": "markdown",
   "metadata": {},
   "source": [
    "Pour pouvoir créer une carte avec un rayon de 10 km autour de chez vous, nous allons déja importer les modules nécessaires."
   ]
  },
  {
   "cell_type": "code",
   "execution_count": null,
   "metadata": {
    "collapsed": true
   },
   "outputs": [],
   "source": [
    "import folium"
   ]
  },
  {
   "cell_type": "markdown",
   "metadata": {},
   "source": [
    "### 2 - Une première carte centrée sur le lycée puis sur mon domicile."
   ]
  },
  {
   "cell_type": "markdown",
   "metadata": {
    "collapsed": true
   },
   "source": [
    "Nous avons vu dans la Première partie de ce TP que le le lycée de Deauville avait pour coordonnées 49.3636° de latitude Nord et 0.07443° de longitude Est.\n",
    "Nous allons créer une carte centrée sur le lycée de Deauville."
   ]
  },
  {
   "cell_type": "code",
   "execution_count": null,
   "metadata": {},
   "outputs": [],
   "source": [
    "# définir les variables latitude et longitude qui seront les coordonnées du centre de la carte :\n",
    "latLycee = 49.3636\n",
    "longLycee = 0.0743\n",
    "\n",
    "# créer la carte en indiquant les coordonnées du centre et un niveau de zoom, entre 1 (planisphère) et 18 (bâtiment)\n",
    "carte1 = folium.Map(location=[latLycee,longLycee],zoom_start = 2)\n",
    "\n",
    "# affichage de carte1\n",
    "carte1"
   ]
  },
  {
   "cell_type": "markdown",
   "metadata": {},
   "source": [
    "Le niveau de zoom étant à 2, on n'observe pas que la carte est centrée sur le lycée. Modifier ce niveau de zoom. et re-exécuter la ligne In [6]."
   ]
  },
  {
   "cell_type": "markdown",
   "metadata": {},
   "source": [
    "On peut également ajouter une \"option\" pour que les coordonnées d'un point de la carte s'affichent quand on clique dessus."
   ]
  },
  {
   "cell_type": "code",
   "execution_count": null,
   "metadata": {},
   "outputs": [],
   "source": [
    "# Outil d'affichage des coordonnées des lieux cliqués :\n",
    "carte1.add_child(folium.LatLngPopup())\n",
    "\n",
    "# affichage de carte1\n",
    "carte1"
   ]
  },
  {
   "cell_type": "markdown",
   "metadata": {},
   "source": [
    "A l'aide de cet outil, et en vous déplacant sur la carte, déterminer les coordonnées de votre domicile, puis compléter les nouvelles valeurs des variables latitude et longitude : "
   ]
  },
  {
   "cell_type": "code",
   "execution_count": null,
   "metadata": {},
   "outputs": [],
   "source": [
    "latitudeChezMoi = .........\n",
    "longitudeChezMoi = .........\n",
    "\n",
    "# créer la carte en indiquant les coordonnées du centre et un niveau de zoom, entre 1 (planisphère) et 18 (bâtiment)\n",
    "carte1 = folium.Map(location=[latitudeChezMoi,longitudeChezMoi],zoom_start = 18)\n",
    "\n",
    "# affichage de carte1\n",
    "carte1"
   ]
  },
  {
   "cell_type": "markdown",
   "metadata": {},
   "source": [
    "On peut également enregistrer cette carte au format html. Pour cela, on exécute l'instruction suivante :"
   ]
  },
  {
   "cell_type": "code",
   "execution_count": null,
   "metadata": {
    "collapsed": true
   },
   "outputs": [],
   "source": [
    "carte1.save('ChezMoi10km.html')\n",
    "# le fichier 'ChezMoi10km.html' se trouve dans le même dossier que le notebook. \n",
    "# Vous pouvez ouvrir cete page web dans un navigateur."
   ]
  },
  {
   "cell_type": "markdown",
   "metadata": {},
   "source": [
    "### 3 - Positionner des icônes sur la carte"
   ]
  },
  {
   "cell_type": "code",
   "execution_count": null,
   "metadata": {},
   "outputs": [],
   "source": [
    "latLycee = 49.3636\n",
    "longLycee = 0.0743\n",
    "carte1 = folium.Map(location=[latLycee,longLycee],zoom_start = 10)\n",
    "\n",
    "# Ajout d'une icône par défaut\n",
    "# la valeur du popup s'affiche au clic sur l'icône\n",
    "folium.Marker(\n",
    "    location=[latLycee,longLycee],\n",
    "    popup=\"Lycée André Maurois\"\n",
    "    ).add_to(carte1)\n",
    "\n",
    "# affichage de carte1\n",
    "carte1"
   ]
  },
  {
   "cell_type": "code",
   "execution_count": null,
   "metadata": {},
   "outputs": [],
   "source": [
    "#On peut également choisir le type d'icône et sa couleur :\n",
    "folium.Marker(\n",
    "    location=[latLycee,longLycee],popup=\"Lycée André Maurois\",\n",
    "    icon = folium.Icon(icon=\"fa-graduation-cap\",prefix='fa',color='darkgreen')\n",
    "    ).add_to(carte1)\n",
    "\n",
    "# affichage de carte1\n",
    "carte1\n",
    "\n"
   ]
  },
  {
   "cell_type": "markdown",
   "metadata": {},
   "source": [
    "* La liste des icônes de marqueurs \"Font Awesome\" disponibles est la version 4.7, consultable [ici] (https://fontawesome.com/v4.7.0/icons/)\n",
    "(à utiliser avec  `prefix = 'fa'`)\n",
    "* La liste des couleurs de marqueurs est : \n",
    " 'red', 'blue', 'green', 'purple', 'orange', 'darkred', 'lightred', 'beige', 'darkblue', 'darkgreen', 'cadetblue',\n",
    " 'darkpurple', 'white', 'pink', 'lightblue', 'lightgreen', 'gray', 'black', 'lightgray'."
   ]
  },
  {
   "cell_type": "markdown",
   "metadata": {},
   "source": [
    "### 4 - Créer un cercle de rayon 10 km autour de chez moi"
   ]
  },
  {
   "cell_type": "markdown",
   "metadata": {},
   "source": [
    "Nous allons tracer sur la carte un cercle centré sur les coordonnées de votre domicile, et de rayon 10 km. L'outil Circle permet de tracer un cercle en indiquant les coordonnées du centre, ainsi que le rayon en mètres. Compléter le script suivant et l'exécuter."
   ]
  },
  {
   "cell_type": "code",
   "execution_count": null,
   "metadata": {},
   "outputs": [],
   "source": [
    "carte1 = folium.Map(location=[latitudeChezMoi,longitudeChezMoi],zoom_start = 10)\n",
    "\n",
    "# positionnement d'un marqueur \"Maison\" chez moi\n",
    "folium.Marker(\n",
    "    location=[latitudeChezMoi,longitudeChezMoi],popup=\"Lycée André Maurois\",\n",
    "    icon = folium.Icon(icon=\"home\",prefix='fa',color='darkblue')\n",
    "    ).add_to(carte1)\n",
    "\n",
    "# cercle de rayon fixe en mètres : désigne la même zone sur la carte, quel que soit le niveau de zoom \n",
    "folium.Circle(location=[latitudeChezMoi,longitudeChezMoi],\n",
    "              radius = .........  ,\n",
    "              tooltip = 'Mon Domicile',\n",
    "              color = 'blue',\n",
    "              fill = False,\n",
    "              fill_color = 'yellow',\n",
    "             ).add_to(carte1)\n",
    "\n",
    "carte1"
   ]
  },
  {
   "cell_type": "markdown",
   "metadata": {},
   "source": [
    "Si tout est correct, et si les couleurs vous conviennent, enregistrer la carte :"
   ]
  },
  {
   "cell_type": "code",
   "execution_count": null,
   "metadata": {
    "collapsed": true
   },
   "outputs": [],
   "source": [
    "# Enregistrer la carte :\n",
    "carte1.save('ChezMoi10km.html')"
   ]
  },
  {
   "cell_type": "markdown",
   "metadata": {},
   "source": [
    "### 5 - Pour aller plus loin, pour les plus rapides"
   ]
  },
  {
   "cell_type": "markdown",
   "metadata": {},
   "source": [
    "Pour les plus rapides, consulter sur l'ENT le document \"Aire de recrutement des lycées généraux\", puis l'utiliser pour créer une carte montrant le lycée de Deauville et les collèges de secteurs qui y sont rattachés. L'objectif est que chaque collège soit symbolisé par un marqueur \"goutte d'eau\" et soit relié au lycée par un segment. On completera pour cela le script ci-dessous."
   ]
  },
  {
   "cell_type": "code",
   "execution_count": null,
   "metadata": {},
   "outputs": [],
   "source": [
    "latLycee = 49.3636\n",
    "longLycee = 0.0743\n",
    "\n",
    "carte2 = folium.Map(location=[latLycee,longLycee],zoom_start = 10)\n",
    "\n",
    "#On place le lycée sur la carte :\n",
    "folium.Marker(\n",
    "              [latLycee,longLycee],\n",
    "              tooltip = \"Lycée André Maurois de Deauville\",\n",
    "              icon = folium.Icon(icon=\"fa-graduation-cap\",prefix='fa',color='darkgreen')\n",
    "             ).add_to(carte2)\n",
    "\n",
    "\n",
    "#On place les différents collèges sur la carte :\n",
    "folium.Marker([49.36388, 0.07484], tooltip = \"Collège André Maurois de Deauville\").add_to(carte2)\n",
    "folium.Marker([49.35995,0.09595], tooltip = \"Collège Charles Mozin de Trouville\").add_to(carte2)\n",
    "\n",
    "#Pour tracer une ligne entre des points, on utilise cet outil, en indiquant les coordonnées de chaque sommet.\n",
    "lien1 = folium.PolyLine(\n",
    "        locations = [[latLycee,longLycee],\n",
    "         [49.36388, 0.07484]],\n",
    "        #épaisseur du tracé en pixels (facultatif)\n",
    "        weight = 2\n",
    "        # autres paramètres facultatifs : color, opacity\n",
    "        ).add_to(carte2)\n",
    "\n",
    "lien2 = folium.PolyLine(\n",
    "        locations = [[latLycee,longLycee],\n",
    "         [49.35995,0.09595]],\n",
    "        weight = 2\n",
    "        ).add_to(carte2)\n",
    "\n",
    "\n",
    "carte2"
   ]
  },
  {
   "cell_type": "markdown",
   "metadata": {},
   "source": [
    "Une fois tous les collèges indiqués, on peut utiliser l'outil suivant pour les regrouper lorsqu'ils sont trop proches pour être affichés correctement :"
   ]
  },
  {
   "cell_type": "code",
   "execution_count": null,
   "metadata": {},
   "outputs": [],
   "source": [
    "from folium.plugins import MarkerCluster\n",
    "latLycee = 49.3636\n",
    "longLycee = 0.0743\n",
    "\n",
    "carte2 = folium.Map(location=[latLycee,longLycee],zoom_start = 10)\n",
    "\n",
    "folium.Marker([latLycee,longLycee], tooltip = \"Lycée André Maurois de Deauville\",icon = folium.Icon(icon=\"fa-graduation-cap\",prefix='fa',color='darkgreen')).add_to(carte2)\n",
    "\n",
    "\n",
    "groupes = MarkerCluster().add_to(carte2)\n",
    "\n",
    "folium.Marker([49.36388, 0.07484], tooltip = \"Collège André Maurois de Deauville\").add_to(groupes)\n",
    "folium.Marker([49.35995,0.09595], tooltip = \"Collège Charles Mozin de Trouville\").add_to(groupes)\n",
    "\n",
    "carte2"
   ]
  },
  {
   "cell_type": "code",
   "execution_count": null,
   "metadata": {
    "collapsed": true
   },
   "outputs": [],
   "source": [
    "#Si la carte est correcte, on la sauvegarde :\n",
    "carte2.save('LesCollegesDeSecteurDuLycee.html')"
   ]
  }
 ],
 "metadata": {
  "kernelspec": {
   "display_name": "Python 3",
   "language": "python",
   "name": "python3"
  },
  "language_info": {
   "codemirror_mode": {
    "name": "ipython",
    "version": 3
   },
   "file_extension": ".py",
   "mimetype": "text/x-python",
   "name": "python",
   "nbconvert_exporter": "python",
   "pygments_lexer": "ipython3",
   "version": "3.4.5"
  }
 },
 "nbformat": 4,
 "nbformat_minor": 2
}
